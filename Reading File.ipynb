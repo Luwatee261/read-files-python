{
 "cells": [
  {
   "cell_type": "code",
   "execution_count": 1,
   "id": "6a447988",
   "metadata": {},
   "outputs": [
    {
     "name": "stdout",
     "output_type": "stream",
     "text": [
      "<_io.TextIOWrapper name='daffodils.txt' mode='r' encoding='UTF-8'>\n"
     ]
    }
   ],
   "source": [
    "fhand = open('daffodils.txt')\n",
    "print(fhand)"
   ]
  },
  {
   "cell_type": "code",
   "execution_count": 11,
   "id": "0fe6b69c",
   "metadata": {},
   "outputs": [
    {
     "name": "stdout",
     "output_type": "stream",
     "text": [
      "'I wandered lonely as a cloud\\n'\n",
      "\"That floats on high o'er vales and hills,\\n\"\n",
      "'When all at once I saw a crowd,\\n'\n",
      "'A host, of golden daffodils;\\n'\n",
      "'Beside the lake, beneath the trees,\\n'\n",
      "'Fluttering and dancing in the breeze.\\n'\n",
      "'foldils\\n'\n",
      "'\\n'\n",
      "'BY William Wordsworth'\n",
      "I wandered lonely as a cloud\n",
      "That floats on high o'er vales and hills,\n",
      "When all at once I saw a crowd,\n",
      "A host, of golden daffodils;\n",
      "Beside the lake, beneath the trees,\n",
      "Fluttering and dancing in the breeze.\n",
      "foldils\n",
      "\n",
      "BY William Wordsworth"
     ]
    }
   ],
   "source": [
    "fhand =open('daffodils.txt')\n",
    "for line in fhand:\n",
    "    print(repr(line))\n",
    "fhand =open('daffodils.txt')\n",
    "for line in fhand:\n",
    "    print((line), end='')"
   ]
  },
  {
   "cell_type": "code",
   "execution_count": 10,
   "id": "ae79bfe9",
   "metadata": {},
   "outputs": [
    {
     "name": "stdout",
     "output_type": "stream",
     "text": [
      "Oluwatosin Awoyemi\n",
      "Data Analyst\n",
      "Oluwatosin Awoyemi Data Analyst\n"
     ]
    }
   ],
   "source": [
    "print('Oluwatosin Awoyemi')\n",
    "print('Data Analyst')\n",
    "print('Oluwatosin Awoyemi', end=\"\")\n",
    "print('','Data Analyst')"
   ]
  },
  {
   "cell_type": "code",
   "execution_count": 12,
   "id": "1073f7ad",
   "metadata": {},
   "outputs": [
    {
     "name": "stdout",
     "output_type": "stream",
     "text": [
      "I wandered lonely as a cloud\n",
      "\n",
      "That floats on high o'er vales and hills,\n",
      "\n",
      "When all at once I saw a crowd,\n",
      "\n",
      "A host, of golden daffodils;\n",
      "\n",
      "Beside the lake, beneath the trees,\n",
      "\n",
      "Fluttering and dancing in the breeze.\n",
      "\n",
      "foldils\n",
      "\n",
      "\n",
      "\n",
      "BY William Wordsworth\n"
     ]
    }
   ],
   "source": [
    "fhand =open('daffodils.txt')\n",
    "for line in fhand:\n",
    "    line.rstrip()\n",
    "    print(line)"
   ]
  },
  {
   "cell_type": "code",
   "execution_count": 16,
   "id": "618179cb",
   "metadata": {},
   "outputs": [
    {
     "name": "stdout",
     "output_type": "stream",
     "text": [
      "Enter the file name: daffodils.txt\n",
      "There are 9 lines in daffodils.txt\n"
     ]
    }
   ],
   "source": [
    "fname = input('Enter the file name: ')\n",
    "fhand = open(fname)\n",
    "count = 0\n",
    "for line in fhand:\n",
    "     count = count + 1\n",
    "print('There are', count, 'lines in', fname)"
   ]
  },
  {
   "cell_type": "code",
   "execution_count": 20,
   "id": "95363425",
   "metadata": {},
   "outputs": [],
   "source": [
    "# Open file with mode 'w'\n",
    "fout = open('flower.txt', 'w')\n",
    "fout.write(\"This content would be added and existing would be discarded\")\n",
    "fout.close()\n",
    "# Open file with mode 'a'\n",
    "fout = open('flower.txt', 'a')\n",
    "fout.write(\"Now the file has more content at the end!\")\n",
    "fout.close()\n"
   ]
  },
  {
   "cell_type": "code",
   "execution_count": 22,
   "id": "0fced07a",
   "metadata": {},
   "outputs": [
    {
     "ename": "FileExistsError",
     "evalue": "[Errno 17] File exists: 'new-file.txt'",
     "output_type": "error",
     "traceback": [
      "\u001b[0;31m---------------------------------------------------------------------------\u001b[0m",
      "\u001b[0;31mFileExistsError\u001b[0m                           Traceback (most recent call last)",
      "Input \u001b[0;32mIn [22]\u001b[0m, in \u001b[0;36m<cell line: 2>\u001b[0;34m()\u001b[0m\n\u001b[1;32m      1\u001b[0m \u001b[38;5;66;03m# Open file with mode 'x'\u001b[39;00m\n\u001b[0;32m----> 2\u001b[0m fout \u001b[38;5;241m=\u001b[39m \u001b[38;5;28;43mopen\u001b[39;49m\u001b[43m(\u001b[49m\u001b[38;5;124;43m'\u001b[39;49m\u001b[38;5;124;43mnew-file.txt\u001b[39;49m\u001b[38;5;124;43m'\u001b[39;49m\u001b[43m,\u001b[49m\u001b[43m \u001b[49m\u001b[38;5;124;43m'\u001b[39;49m\u001b[38;5;124;43mx\u001b[39;49m\u001b[38;5;124;43m'\u001b[39;49m\u001b[43m)\u001b[49m\n\u001b[1;32m      3\u001b[0m fout\u001b[38;5;241m.\u001b[39mwrite(\u001b[38;5;124m\"\u001b[39m\u001b[38;5;124mNow the new file has some content!\u001b[39m\u001b[38;5;124m\"\u001b[39m)\n\u001b[1;32m      4\u001b[0m fout\u001b[38;5;241m.\u001b[39mclose()\n",
      "\u001b[0;31mFileExistsError\u001b[0m: [Errno 17] File exists: 'new-file.txt'"
     ]
    }
   ],
   "source": [
    "# Open file with mode 'x'\n",
    "fout = open('new-file.txt', 'x')\n",
    "fout.write(\"Now the new file has some content!\")\n",
    "fout.close()"
   ]
  },
  {
   "cell_type": "code",
   "execution_count": 24,
   "id": "0b147550",
   "metadata": {},
   "outputs": [
    {
     "name": "stdout",
     "output_type": "stream",
     "text": [
      "Enter the file name: tosin.txt\n",
      "File not found and can not be opened: tosin.txt\n",
      "There are 0 lines in tosin.txt\n"
     ]
    }
   ],
   "source": [
    "fname = input('Enter the file name: ')\n",
    "try:\n",
    "  fhand = open(fname)\n",
    "except:\n",
    "  print('File not found and can not be opened:', fname)\n",
    "  exit()\n",
    "count=0\n",
    "for line in fhand:\n",
    "  count = count + 1\n",
    "print('There are', count, 'lines in', fname)"
   ]
  },
  {
   "cell_type": "code",
   "execution_count": null,
   "id": "4257417c",
   "metadata": {},
   "outputs": [],
   "source": []
  }
 ],
 "metadata": {
  "kernelspec": {
   "display_name": "Python 3 (ipykernel)",
   "language": "python",
   "name": "python3"
  },
  "language_info": {
   "codemirror_mode": {
    "name": "ipython",
    "version": 3
   },
   "file_extension": ".py",
   "mimetype": "text/x-python",
   "name": "python",
   "nbconvert_exporter": "python",
   "pygments_lexer": "ipython3",
   "version": "3.9.12"
  }
 },
 "nbformat": 4,
 "nbformat_minor": 5
}
